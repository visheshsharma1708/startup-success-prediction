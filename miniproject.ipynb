{
 "cells": [
  {
   "cell_type": "markdown",
   "id": "74d27bd7",
   "metadata": {},
   "source": [
    "### Startup Success Prediction Using Linear Regression\n"
   ]
  },
  {
   "cell_type": "code",
   "execution_count": null,
   "id": "3c107f02",
   "metadata": {
    "vscode": {
     "languageId": "plaintext"
    }
   },
   "outputs": [],
   "source": []
  }
 ],
 "metadata": {
  "language_info": {
   "name": "python"
  }
 },
 "nbformat": 4,
 "nbformat_minor": 5
}
